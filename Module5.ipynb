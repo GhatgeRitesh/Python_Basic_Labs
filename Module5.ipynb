{
 "cells": [
  {
   "cell_type": "markdown",
   "id": "a1d1b565-bc5d-4925-9d8c-41624e902d5a",
   "metadata": {},
   "source": [
    "# Simple API's in python \n"
   ]
  },
  {
   "cell_type": "markdown",
   "id": "06c4e24e-9ecc-464a-b044-d96ff6496be4",
   "metadata": {},
   "source": [
    "## Application programing interface\n",
    "What is Api <br>\n",
    "\n",
    "programs interact with the s/w of components \n",
    "\n",
    "Rest APi\n",
    "Re=Representational\n",
    "s=state \n",
    "t=transfer\n",
    "\n",
    "Rest apis are used to interact with the web services  that is applications you call through internet\n",
    "* they have set of rules regarding\n",
    "    * Communication\n",
    "    * Input or Request\n",
    "    * output or response\n",
    " \n",
    "client and servers (Web services /Resource)\n",
    "\n",
    "client finds the service via endpoint \n",
    "client sends the resource to server and gets the resources to client\n",
    "\n",
    "HttP methods are the ways of data transmission via internet \n",
    "We tell the rest apis what to do by sending \"what to do with http message \"\n",
    "\n",
    "Http message \n",
    "It usually contains the Json file \n",
    "\n",
    "service then process the request and returns the reponse with usually json file \n",
    "\n",
    "\n",
    "for the practical learning we will use the PyCoinGecko client/Wrapper for CoinGecko api for getting real time data updated every minute by coingecko \n",
    "\n",
    "We use the wrapper or client to focus on collecting data \n",
    "\n",
    "So introducing pandas timeseries functions for using time related data \n",
    "\n",
    "using pycoingecko is simple \n",
    "\n",
    "* step 1: Install lib pycoingecko as !pip install pycoingecko\n",
    "* step 2: import the library from pycoingecko imnport CoinGeckoAPI\n",
    "* step 3: create the client object as : cg=CoinGeckoAPI()\n",
    "* step 4: use the function to request our data as : bitcoin_data=cg.get_coin_market_chart_by_id(id='bitcoin',vs_currency='ind',days=30)"
   ]
  },
  {
   "cell_type": "code",
   "execution_count": null,
   "id": "dc74adb8-64d8-4d32-a31b-2258b40f3ad0",
   "metadata": {},
   "outputs": [],
   "source": [
    "!pip install pycoingeckoapi\n",
    "from pycoingecko import CoinGeckoAPI\n",
    "cg=CoinGeckoAPI()\n",
    "bitcoinData=cg.get_coin_market_chart_by_id(id='bitcoin',vs_currency='ind',days=30)\n"
   ]
  },
  {
   "cell_type": "markdown",
   "id": "a33c627b-d24a-4f4e-81c9-0a6b245bd73f",
   "metadata": {},
   "source": [
    "# Practice project "
   ]
  },
  {
   "cell_type": "code",
   "execution_count": 5,
   "id": "55a21e5b-fcc9-4c39-aae2-c6417aedea0e",
   "metadata": {},
   "outputs": [
    {
     "name": "stdout",
     "output_type": "stream",
     "text": [
      "200\n",
      "written Successfully\n"
     ]
    }
   ],
   "source": [
    "import requests\n",
    "\n",
    "filename=\"https://web.archive.org/web/20230902185326/https://en.wikipedia.org/wiki/List_of_countries_by_GDP_%28nominal%29\"\n",
    "\n",
    "def download(url, filename):\n",
    "    response = requests.get(url)\n",
    "    print(response.status_code)\n",
    "    if response.status_code == 200:\n",
    "        with open(filename, \"wb\") as f:\n",
    "            f.write(response.content)\n",
    "            print(\"written Successfully\")\n",
    "\n",
    "download(filename, \"D:/PracticeAPI.pkl\")\n",
    "with open(\"D:/PracticeAPI.pkl\",\"r\", encoding=\"utf-8\", errors=\"ignore\") as f:\n",
    "    file_con=f.read()\n",
    "\n",
    "#print(file_con)\n",
    "import pandas as pd\n",
    "file=\"D:/PracticeAPI.pkl\"\n",
    "#df= pd.read_pickle(file)\n",
    "#print(df.head())"
   ]
  },
  {
   "cell_type": "markdown",
   "id": "3539c525-5cfd-4960-8b91-d86b1d9817ce",
   "metadata": {},
   "source": [
    "# Rest API and Http Protocol Requests \n"
   ]
  },
  {
   "cell_type": "code",
   "execution_count": null,
   "id": "984997d2-7541-46e5-a13f-e024fdf3906e",
   "metadata": {},
   "outputs": [],
   "source": [
    "\n",
    "\"\"\"\n",
    "Uniform resource locator :URL\n",
    "Request\n",
    "Response \n",
    "\n",
    "\n",
    "***Http requests \n",
    "client sends http request as http massege \n",
    "server sends the response as http request as json file \n",
    "\n",
    "severs can have resources as follows: -> for finding the web page \n",
    "Index.html\n",
    "Image.png\n",
    "File.txt\n",
    "\n",
    "URL is the popular way to send requests to the server\n",
    "\n",
    "We break the url into three parts \n",
    "1.Scheme : The protocol . for this lab we will have http://\n",
    "2.Internet Address or Base URL : used to find the location , for example : www.instagram.com\n",
    "3.Route:location on the web server, example: /images/DNSLogo.png\n",
    "\n",
    "\n",
    "*** Request and Response Process \n",
    "Request:\n",
    "Example of Request of type get \n",
    "Request Start line : /Get/index.html HTTP/1.0\n",
    "Request Header : User-Agent:python-requests.2.21.0 Accept_Encoding:gzip,deflate:\n",
    "\n",
    "Response:\n",
    "Reponse body:\n",
    "Response Start Line: HTTP/1.0 200 OK \n",
    "Response Header : Server: Apache-Cache:UNREACHEABLE\n",
    "Response Body : <DOCTYPE>\n",
    "\n",
    "*** status codes\n",
    "\n",
    "1XX :- informational codes \n",
    "2XX :- success codes\n",
    "3XX :- redirection code \n",
    "4XX :- Client Error codes \n",
    "5XX :- server error codes \n",
    "\n",
    "multiple methods are there to send and requests as follows\n",
    "1.GET :- Retrives Data from server \n",
    "2.POST :- Submits data to server\n",
    "3.PUT :- Updates data that is already present \n",
    "4.DELETE :- deletes data from server\n",
    "\n",
    "\"\"\"\n",
    "print(\"Hello world\")"
   ]
  },
  {
   "cell_type": "markdown",
   "id": "5ba05a99-6565-4cf2-9501-18d40a1d69b9",
   "metadata": {},
   "source": [
    "# HTTP Using Request Library in Python "
   ]
  },
  {
   "cell_type": "code",
   "execution_count": 32,
   "id": "374ae4b3-a939-454b-afd2-41a86146e677",
   "metadata": {},
   "outputs": [
    {
     "name": "stdout",
     "output_type": "stream",
     "text": [
      "200\n",
      "{'Vary': 'Accept-Encoding', 'Content-Encoding': 'zstd', 'Set-Cookie': 'csrftoken=bpv_aiUnEUU_ssov41TpJy; expires=Wed, 30-Jul-2025 08:30:14 GMT; Max-Age=31449600; path=/; domain=.instagram.com; secure', 'accept-ch-lifetime': '4838400', 'accept-ch': 'viewport-width,dpr,Sec-CH-Prefers-Color-Scheme,Sec-CH-UA-Full-Version-List,Sec-CH-UA-Platform-Version,Sec-CH-UA-Model', 'reporting-endpoints': 'coop_report=\"https://www.facebook.com/browser_reporting/coop/?minimize=0\", default=\"https://www.instagram.com/error/ig_web_error_reports/?device_level=unknown\", permissions_policy=\"https://www.instagram.com/error/ig_web_error_reports/\"', 'report-to': '{\"max_age\":2592000,\"endpoints\":[{\"url\":\"https:\\\\/\\\\/www.facebook.com\\\\/browser_reporting\\\\/coop\\\\/?minimize=0\"}],\"group\":\"coop_report\",\"include_subdomains\":true}, {\"max_age\":259200,\"endpoints\":[{\"url\":\"https:\\\\/\\\\/www.instagram.com\\\\/error\\\\/ig_web_error_reports\\\\/?device_level=unknown\"}]}, {\"max_age\":21600,\"endpoints\":[{\"url\":\"https:\\\\/\\\\/www.instagram.com\\\\/error\\\\/ig_web_error_reports\\\\/\"}],\"group\":\"permissions_policy\"}', 'content-security-policy-report-only': \"default-src *.facebook.com *.fbcdn.net *.instagram.com data: blob:;script-src *.teststagram.com *.instagram.com static.cdninstagram.com *.facebook.com *.fbcdn.net *.facebook.net 'unsafe-inline' 'unsafe-eval' blob: data: 'self' https://*.google-analytics.com https://translate.google.com https://apis.google.com https://accounts.google.com;style-src *.teststagram.com *.instagram.com static.cdninstagram.com data: blob: 'unsafe-inline' *.fbcdn.net *.facebook.com;connect-src *.teststagram.com *.instagram.com wss://edge-chat.instagram.com connect.facebook.net *.facebook.com facebook.com *.fbcdn.net *.facebook.net wss://*.facebook.com:* ws://localhost:* blob: *.cdninstagram.com wss://*.instagram.com:* 'self' https://meta.privacy-gateway.cloudflare.com/relay;font-src *.teststagram.com *.instagram.com static.cdninstagram.com data: *.fbcdn.net *.intern.facebook.com *.facebook.com https://fonts.gstatic.com;img-src *.teststagram.com *.instagram.com *.facebook.com *.fbcdn.net data: *.igsonar.com *.cdninstagram.com *.whatsapp.net blob: *.fbsbx.com android-webview-video-poster: *.oculuscdn.com *.giphy.com https://*.google-analytics.com;media-src *.facebook.com *.fbcdn.net *.instagram.com *.cdninstagram.com cdn.fbsbx.com data: blob: https://*.giphy.com;frame-src *.instagram.com *.facebook.com *.fbsbx.com fbsbx.com data:;block-all-mixed-content;upgrade-insecure-requests;report-uri https://www.facebook.com/csp/reporting/?minimize=0;\", 'content-security-policy': \"default-src *.facebook.com *.fbcdn.net *.instagram.com data: blob:;script-src *.teststagram.com *.instagram.com static.cdninstagram.com *.facebook.com *.fbcdn.net *.facebook.net 127.0.0.1:* 'unsafe-inline' 'unsafe-eval' blob: data: 'self' https://*.google-analytics.com https://translate.google.com https://apis.google.com https://accounts.google.com;style-src *.teststagram.com *.instagram.com static.cdninstagram.com data: blob: 'unsafe-inline' *.fbcdn.net *.facebook.com;connect-src *.teststagram.com *.instagram.com wss://edge-chat.instagram.com connect.facebook.net *.facebook.com facebook.com *.fbcdn.net *.facebook.net wss://*.facebook.com:* ws://localhost:* blob: *.cdninstagram.com wss://*.instagram.com:* 'self' https://meta.privacy-gateway.cloudflare.com/relay;font-src *.teststagram.com *.instagram.com static.cdninstagram.com data: *.fbcdn.net *.intern.facebook.com *.facebook.com https://fonts.gstatic.com;img-src *.teststagram.com *.instagram.com *.facebook.com *.fbcdn.net data: *.igsonar.com *.cdninstagram.com *.whatsapp.net blob: *.fbsbx.com android-webview-video-poster: *.oculuscdn.com *.giphy.com www.googleadservices.com *.doubleclick.net *.google.com *.google.co.uk https://www.gstatic.com https://*.google-analytics.com;media-src *.facebook.com *.fbcdn.net *.instagram.com *.cdninstagram.com cdn.fbsbx.com data: blob: https://*.giphy.com;frame-src *.instagram.com *.facebook.com *.fbsbx.com fbsbx.com data: www.googleadservices.com *.doubleclick.net *.google.com *.google.co.uk;block-all-mixed-content;upgrade-insecure-requests;\", 'document-policy': 'force-load-at-top', 'permissions-policy': 'accelerometer=(self), attribution-reporting=(), autoplay=(), battery=(self), bluetooth=(), camera=(self), ch-device-memory=(), ch-downlink=(), ch-dpr=(), ch-ect=(), ch-rtt=(), ch-save-data=(), ch-ua-arch=(), ch-ua-bitness=(), ch-viewport-height=(), ch-viewport-width=(), ch-width=(), clipboard-read=(), clipboard-write=(self), compute-pressure=(), display-capture=(), encrypted-media=(), fullscreen=(self), gamepad=(), geolocation=(self), gyroscope=(self), hid=(), idle-detection=(), interest-cohort=(), keyboard-map=(), local-fonts=(), magnetometer=(), microphone=(self), midi=(), otp-credentials=(), payment=(), picture-in-picture=(self), private-state-token-issuance=(), publickey-credentials-get=(), screen-wake-lock=(), serial=(), shared-storage=(), shared-storage-select-url=(), private-state-token-redemption=(), usb=(), usb-unrestricted=(), unload=(self), window-management=(), xr-spatial-tracking=();report-to=\"permissions_policy\"', 'cross-origin-resource-policy': 'same-origin', 'cross-origin-opener-policy': 'same-origin-allow-popups;report-to=\"coop_report\"', 'Pragma': 'no-cache', 'Cache-Control': 'private, no-cache, no-store, must-revalidate', 'Expires': 'Sat, 01 Jan 2000 00:00:00 GMT', 'X-Content-Type-Options': 'nosniff', 'X-XSS-Protection': '0', 'X-Frame-Options': 'DENY', 'Strict-Transport-Security': 'max-age=31536000; preload; includeSubDomains', 'x-stack': 'www', 'Content-Type': 'text/html; charset=\"utf-8\"', 'X-FB-Debug': 'o5QeR6X40GLmYbiF07sjOJPjis65lTW3C/ExT8vG+U0LaN1CzscX/Xtf+BdXBTu7ak99dY498UZlkEyNdjr9wA==', 'x-fb-server-load': '33', 'Date': 'Wed, 31 Jul 2024 08:30:14 GMT', 'Alt-Svc': 'h3=\":443\"; ma=86400', 'Transfer-Encoding': 'chunked', 'Connection': 'keep-alive'}\n",
      "Wed, 31 Jul 2024 08:30:14 GMT\n",
      "text/html; charset=\"utf-8\"\n",
      "utf-8\n",
      "<!DOCTYPE html><html class=\"_9dls _ar44\" lang=\"en\" dir=\"ltr\"><head><link data-default-icon=\"https://\n",
      "http://httpbin.org/get?Name=jhon&ID=123\n",
      "200\n",
      "application/json\n"
     ]
    },
    {
     "data": {
      "text/plain": [
       "{'ID': '123', 'Name': 'jhon'}"
      ]
     },
     "execution_count": 32,
     "metadata": {},
     "output_type": "execute_result"
    }
   ],
   "source": [
    "\"\"\" Requests in python \n",
    "    GET Request \n",
    "    Post Request \n",
    "\n",
    "\n",
    "   HTTP lib and URL lib can work with http protocol\n",
    "   Request Module in Python \n",
    "   This lib lets you send the HTTP/1.0 requests easily \n",
    "\n",
    "   import requests \n",
    "   # make get request \n",
    "   url = \"https://www.instagram.com\"\n",
    "   r=requests.get(url)\n",
    "   print(r.status_code)\n",
    "   \n",
    "\"\"\"\n",
    "import requests as r\n",
    "url=\"https://www.instagram.com\"\n",
    "res=r.get(url)\n",
    "print(res.status_code)\n",
    "# to view request headers \n",
    "print(res.headers)\n",
    "# to view the request body as \n",
    "#print(res.r.body)\n",
    "\n",
    "#Operations on headers  headers are the dictionary for the request and response information \n",
    "#to view to the date of request sent \n",
    "header=res.headers\n",
    "print(header['date'])\n",
    "print(header['Content-Type'])\n",
    "\n",
    "# to check the encoding \n",
    "print(res.encoding) \n",
    "\n",
    "# to display the text of body we can do \n",
    "res.text # this display's whole content of html page\n",
    "print(res.text[0:100]) # to display partial page \n",
    "\n",
    "# you can download other resources see the lab \n",
    "\n",
    "# you can use the GET method to modify the results of query for example retriving data from an api \n",
    "# for lab we will use httpbin.org  for practical usage \n",
    "# GET request for httbin.org\n",
    "# Base URL: httpbin.org  Route :/get => httpbin.org/get\n",
    "\n",
    "# after request we have query string  this is part of URL \n",
    "# The Query Starts as ? NAME=jhon&ID=123 -> parameter and value pair each pair is separeted by & \n",
    "\n",
    "url=\"http://httpbin.org/get\"\n",
    "payload={\"Name\":\"jhon\",\"ID\":\"123\"} # the items to send on severs \n",
    "res=r.get(url,params=payload) # to pass the parameters with url \n",
    "print(res.url) # to check the names and values of param \n",
    "#r.request.body\n",
    "print(res.status_code)         \n",
    "\n",
    "# check for content type \n",
    "print(res.headers[\"Content-Type\"])\n",
    "\n",
    "# to format the content with json \n",
    "dict=res.json() # it returns the python DICT\n",
    "#print(dict)\n",
    "\n",
    "# the key args have the params those have been sent with get method \n",
    "dict['args']\n",
    "\n",
    "\n",
    "#### POST methods\n",
    "# it sends the data to the server but not into the url it sends the data  with the request body \n",
    "# cheange the route to post \n",
    "url=\"http://httpbin.org/post\"\n",
    "# it is convinent method to send the data as  \n",
    "# we have the payload \n",
    "res_post=r.post(url,data=payload) # data store the payload\n",
    "\n",
    "res_post.url\n",
    "res_post.json()['form']"
   ]
  },
  {
   "cell_type": "code",
   "execution_count": null,
   "id": "abeea2b3-51ef-41bc-9aa6-cc7725ac4223",
   "metadata": {},
   "outputs": [],
   "source": []
  }
 ],
 "metadata": {
  "kernelspec": {
   "display_name": "Python 3 (ipykernel)",
   "language": "python",
   "name": "python3"
  },
  "language_info": {
   "codemirror_mode": {
    "name": "ipython",
    "version": 3
   },
   "file_extension": ".py",
   "mimetype": "text/x-python",
   "name": "python",
   "nbconvert_exporter": "python",
   "pygments_lexer": "ipython3",
   "version": "3.12.4"
  }
 },
 "nbformat": 4,
 "nbformat_minor": 5
}
