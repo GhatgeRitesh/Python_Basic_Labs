{
 "cells": [
  {
   "cell_type": "markdown",
   "id": "13b9bdd3-8c1b-4861-87e1-54dbe8d90160",
   "metadata": {},
   "source": [
    "## Practical file for module-1 lab "
   ]
  },
  {
   "cell_type": "code",
   "execution_count": 1,
   "id": "9eb649e3-1fc5-411e-9889-8c3bd7f1fd90",
   "metadata": {},
   "outputs": [
    {
     "name": "stdout",
     "output_type": "stream",
     "text": [
      "Hello world\n"
     ]
    }
   ],
   "source": [
    "print(\"Hello world\")"
   ]
  },
  {
   "cell_type": "code",
   "execution_count": 13,
   "id": "29e222dc-82b3-4eaf-ab90-97c6fa1b87ae",
   "metadata": {
    "scrolled": true
   },
   "outputs": [
    {
     "name": "stdout",
     "output_type": "stream",
     "text": [
      "<class 'int'> <class 'float'> <class 'str'> <class 'str'> <class 'bool'>\n",
      "<class 'int'>\n",
      "1234-123-123\n"
     ]
    }
   ],
   "source": [
    "## To represent the types and operations \n",
    "##basic types in python \n",
    "a=1\n",
    "b=1.2\n",
    "c=\"string\"\n",
    "d='A'\n",
    "e=True\n",
    "f=False\n",
    "print(type(a) ,\n",
    "type(b) ,\n",
    "type(c) ,\n",
    "type(d) ,\n",
    "type(f))\n",
    "print(type(int(1.2))) ## double slash stands for integer division\n",
    "type(6//2)## double slash stands for integer division\n",
    "import sys\n",
    "sys.float_info ## gives detailed information about the types in python with min and max value\n",
    "print(str(\"1234-123-123\")) ## convert int to string \n"
   ]
  },
  {
   "cell_type": "markdown",
   "id": "5e384f75-c42e-482e-8a4c-4b26c94ea3eb",
   "metadata": {},
   "source": [
    "## Strings and String operations"
   ]
  },
  {
   "cell_type": "code",
   "execution_count": 20,
   "id": "e3a2ca4a-ee94-4ac2-87ff-26aa4f8f414c",
   "metadata": {},
   "outputs": [
    {
     "name": "stdout",
     "output_type": "stream",
     "text": [
      "T\n",
      " Thi\n",
      " hsi h tig -->this is stride\n",
      "Mca\n"
     ]
    }
   ],
   "source": [
    "String1= \"Michalle is the String \"\n",
    "print(String[1]) ## string is stored in character by character in list and can be accessed as index \n",
    "## string also can be accessed via negative indexing starting from last element indexed as -1\n",
    "\n",
    "#String Slice\n",
    "print(String[0:4]) ##Start index and end index for slice\n",
    "print(String[::2], \"-->this is stride\") ## stride selects every element for given number \n",
    "\n",
    "##how many characters you want to move forward after the first character is retrieved from the string.\n",
    "\n",
    "# stride can be incorporated with slicing \n",
    "print(String1[0:5:2]) "
   ]
  },
  {
   "cell_type": "code",
   "execution_count": 21,
   "id": "13f085ee-1270-4b55-ba2e-3839538c4941",
   "metadata": {},
   "outputs": [
    {
     "name": "stdout",
     "output_type": "stream",
     "text": [
      "6\n"
     ]
    }
   ],
   "source": [
    "## to obtian the length of the string we can use len() command\n",
    "name=\"Ritesh\"\n",
    "print(len(name))"
   ]
  },
  {
   "cell_type": "code",
   "execution_count": 22,
   "id": "ad3f1940-08de-4b30-a674-147809df03d4",
   "metadata": {},
   "outputs": [
    {
     "name": "stdout",
     "output_type": "stream",
     "text": [
      "Riteshghatge\n"
     ]
    }
   ],
   "source": [
    "#concatinate the string can be done via \n",
    "name=\"Ritesh\"\n",
    "newName=name+\"ghatge\"\n",
    "print(newName)"
   ]
  },
  {
   "cell_type": "code",
   "execution_count": 24,
   "id": "4297eedf-2921-4172-b414-e358fae359cd",
   "metadata": {},
   "outputs": [
    {
     "name": "stdout",
     "output_type": "stream",
     "text": [
      "Ritesh Ritesh Ritesh \n"
     ]
    }
   ],
   "source": [
    "#Replicate the string for n timese\n",
    "name=\"Ritesh\"\n",
    "replicate=3*\"Ritesh \"\n",
    "print(replicate)"
   ]
  },
  {
   "cell_type": "code",
   "execution_count": 26,
   "id": "86057ae1-c61d-41d7-b960-003ef9396c08",
   "metadata": {},
   "outputs": [
    {
     "name": "stdout",
     "output_type": "stream",
     "text": [
      "Ritesh\n"
     ]
    },
    {
     "ename": "TypeError",
     "evalue": "'str' object does not support item assignment",
     "output_type": "error",
     "traceback": [
      "\u001b[1;31m---------------------------------------------------------------------------\u001b[0m",
      "\u001b[1;31mTypeError\u001b[0m                                 Traceback (most recent call last)",
      "Cell \u001b[1;32mIn[26], line 4\u001b[0m\n\u001b[0;32m      2\u001b[0m name\u001b[38;5;241m=\u001b[39m\u001b[38;5;124m\"\u001b[39m\u001b[38;5;124mRitesh\u001b[39m\u001b[38;5;124m\"\u001b[39m\n\u001b[0;32m      3\u001b[0m \u001b[38;5;28mprint\u001b[39m(name)\n\u001b[1;32m----> 4\u001b[0m name[\u001b[38;5;241m0\u001b[39m]\u001b[38;5;241m=\u001b[39m\u001b[38;5;124m'\u001b[39m\u001b[38;5;124mT\u001b[39m\u001b[38;5;124m'\u001b[39m\n\u001b[0;32m      5\u001b[0m \u001b[38;5;28mprint\u001b[39m(name)\n\u001b[0;32m      6\u001b[0m name\u001b[38;5;241m=\u001b[39m\u001b[38;5;124m\"\u001b[39m\u001b[38;5;124mGhatge\u001b[39m\u001b[38;5;124m\"\u001b[39m\n",
      "\u001b[1;31mTypeError\u001b[0m: 'str' object does not support item assignment"
     ]
    }
   ],
   "source": [
    "#Strings are immutable cannot change the string but can \n",
    "name=\"Ritesh\"\n",
    "print(name)\n",
    "name[0]='T'\n",
    "print(name)\n",
    "name=\"Ghatge\"\n",
    "print(name)"
   ]
  },
  {
   "cell_type": "code",
   "execution_count": 29,
   "id": "9edd58a4-d23c-4f03-bf8d-9cebfd36e4ab",
   "metadata": {},
   "outputs": [
    {
     "name": "stdout",
     "output_type": "stream",
     "text": [
      "Michale jhonson  \n",
      " is the best \n",
      "this is the best \\ blackshalsh used in single time\n",
      "this is without \\ double slash \n"
     ]
    }
   ],
   "source": [
    "#Escape sequences \n",
    "# \\ are meant to proceed escape sequences\n",
    "# escape ssequneces are strings that  are difficult to input \n",
    "print(\"Michale jhonson  \\n is the best \")\n",
    "# \\t represents the space tab in string \n",
    "# if you want to use \\ in string use \\\\ to print single blackshalsh\n",
    "print(\"this is the best \\\\ blackshalsh used in single time\" )\n",
    "# you can also place an r in front of string to get same results \n",
    "print(r\"this is without \\ double slash \")"
   ]
  },
  {
   "cell_type": "code",
   "execution_count": 5,
   "id": "bd1861ea-dfc0-4641-a1f9-04eefb3a9075",
   "metadata": {},
   "outputs": [
    {
     "name": "stdout",
     "output_type": "stream",
     "text": [
      "RITESH\n",
      "Ghatge\n",
      "2\n",
      "14\n"
     ]
    }
   ],
   "source": [
    "# String methods \n",
    "# two types of string methods \n",
    "# 1.Sequence Methods  2.String Methods\n",
    "#sequence methods are used to access list and tuples\n",
    "#string methods just work on string \n",
    "#applying method on string A gives the new String B \n",
    "Name=\"Ritesh\"\n",
    "newString=Name.upper()\n",
    "print(newString)\n",
    "newString=Name.replace('Ritesh','Ghatge')\n",
    "print(newString)\n",
    "\n",
    "#Find method used to find the substring \n",
    "string='This is the String '\n",
    "print(string.find('i'))\n",
    "print(string.find('rin'))\n",
    "#gives the ouput as the first index of the substring"
   ]
  },
  {
   "cell_type": "markdown",
   "id": "eab30d5a-505a-4fc8-ab08-7dcd2f633957",
   "metadata": {},
   "source": [
    "## Formating string using variables into the print string statments \n"
   ]
  },
  {
   "cell_type": "code",
   "execution_count": 20,
   "id": "aba6d952-26d7-45e4-9838-1f06124d7d8c",
   "metadata": {},
   "outputs": [
    {
     "name": "stdout",
     "output_type": "stream",
     "text": [
      "Hi my name is ritesh and my age is 30\n",
      "hi my name is ritesh and my age is 33 \n",
      "this is the string 11\n",
      "regular String: C:\n",
      "ewuser\\data\n",
      "rawString : C:\\newUser\\data\n"
     ]
    },
    {
     "name": "stderr",
     "output_type": "stream",
     "text": [
      "<>:24: SyntaxWarning: invalid escape sequence '\\d'\n",
      "<>:24: SyntaxWarning: invalid escape sequence '\\d'\n",
      "C:\\Users\\Ritesh\\AppData\\Local\\Temp\\ipykernel_12544\\1052567556.py:24: SyntaxWarning: invalid escape sequence '\\d'\n",
      "  regular_string= \"C:\\newuser\\data\"\n"
     ]
    }
   ],
   "source": [
    "Name=\"ritesh\"\n",
    "age=30\n",
    "print(f\"Hi my name is {Name} and my age is {age}\") #using f infront of string's \"\" double quote\n",
    "#also called string interpolation or F-string\n",
    "\n",
    "#method2 \n",
    "#str.format()\n",
    "name='ritesh'\n",
    "age=33\n",
    "print(\"hi my name is {} and my age is {} \".format(name,age)) #using the variables in arguments\n",
    "\n",
    "#method 2 \n",
    "# % modulo operator\n",
    "mark=100\n",
    "#print(\"my name is % and my age is % my marks are \" % (name,age)) # this method is not supported\n",
    "\n",
    "\n",
    "#additionally we can also use operators to calculate \n",
    "x=10\n",
    "y=1\n",
    "print(f\"this is the string {x+y}\")\n",
    "\n",
    "#method 3 Raw String(r' ')\n",
    "regular_string= \"C:\\newuser\\data\"\n",
    "print(\"regular String:\",regular_string)\n",
    "#to avoid this mistake for \\n consideration we use\n",
    "regular_string=r\"C:\\newUser\\data\"\n",
    "print(\"rawString :\",regular_string)"
   ]
  },
  {
   "cell_type": "code",
   "execution_count": 1,
   "id": "7c7312c4-4c46-4c31-bb27-277a20c3edf5",
   "metadata": {},
   "outputs": [],
   "source": [
    "#in python on using split() function on string it returns the list of strings differentiating by white spaces "
   ]
  },
  {
   "cell_type": "code",
   "execution_count": 4,
   "id": "3a4988fb-e7c4-49f9-837c-2cb6335921e9",
   "metadata": {},
   "outputs": [
    {
     "data": {
      "text/plain": [
       "['ritesh', 'ghatge']"
      ]
     },
     "execution_count": 4,
     "metadata": {},
     "output_type": "execute_result"
    }
   ],
   "source": [
    "name=\"ritesh ghatge\"\n",
    "newstring=name.split()\n",
    "name\n",
    "#it returns simple string with no operations \n",
    "# we have to use simple parenthesis () outer to name.split \n",
    "newString=(name.split())\n",
    "newString"
   ]
  },
  {
   "cell_type": "markdown",
   "id": "25f5310c-02f3-4bb5-9100-33f99d0e82af",
   "metadata": {},
   "source": [
    "# Regex in Python \n",
    "Regular expressions (RegEx) are patterns used to match and manipulate strings of text. There are several special sequences in RegEx that can be used to match specific characters or patterns.\r\n",
    "\r\n",
    "Special Sequence\tMeaning\tExample\r\n",
    "\\d\tMatches any digit character (0-9)\t\"123\" matches \"\\d\\d\\d\"\r\n",
    "\\D\tMatches any non-digit character\t\"hello\" matches \"\\D\\D\\D\\D\\D\"\r\n",
    "\\w\tMatches any word character (a-z, A-Z, 0-9, and _)\t\"hello_world\" matches \"\\w\\w\\w\\w\\w\\w\\w\\w\\w\\w\\w\"\r\n",
    "\\W\tMatches any non-word character\t\"@#$%\" matches \"\\W\\W\\W\\W\"\r\n",
    "\\s\tMatches any whitespace character (space, tab, newline, etc.)\t\"hello world\" matches \"\\w\\w\\w\\w\\w\\s\\w\\w\\w\\w\\w\"\r\n",
    "\\S\tMatches any non-whitespace character\t\"hello_world\" matches \"\\S\\S\\S\\S\\S\\S\\S\\S\\S\"\r\n",
    "\\b\tMatches the boundary between a word character and a non-word character\t\"cat\" matches \"\\bcat\\b\" in \"The cat sat on the mat\"\r\n",
    "\\B\tMatches any position that is not a word boundary\t\"cat\" matches \"\\Bcat\\B\" in \"category\" but not in \"The cat sat on the mat\"\r\n",
    "Special Sequence Examples:\r\n",
    "\r\n",
    "A simple example of using the \\d special sequence in a regular expression pattern with Python code:"
   ]
  },
  {
   "cell_type": "code",
   "execution_count": 5,
   "id": "1df0a381-7101-47e6-a69c-fc2d47f862d9",
   "metadata": {},
   "outputs": [
    {
     "name": "stdout",
     "output_type": "stream",
     "text": [
      "matched\n"
     ]
    }
   ],
   "source": [
    "s1= \"Michael Jackson is the best\"\n",
    "\n",
    "import re\n",
    "\n",
    "pattern=r\"Jackson\" # declaring the pattern for string \n",
    "\n",
    "#use the search function to search the  pattern in string \\\n",
    "result=re.search(pattern,s1)\n",
    "\n",
    "#check if match found or not \n",
    "if result:\n",
    "    print(\"matched\")\n",
    "else:\n",
    "    print(\"match not found\")"
   ]
  },
  {
   "cell_type": "code",
   "execution_count": null,
   "id": "6f88842d-985f-4726-b457-0b8da9c5a619",
   "metadata": {},
   "outputs": [],
   "source": [
    "\"\"\" \n",
    "\\d is the numerical\n",
    "\\D matches non digit character\n",
    "\\w matches any word character\n",
    "\\W matches any non word character\n",
    "\\s matches any white space character or new line \n",
    "\\S Matches any non white space character like _ \n",
    "\\b\tMatches the boundary between a word character and a non-word character\t\"cat\" matches \"\\bcat\\b\" in \"The cat sat on the mat\"\n",
    "\\B\tMatches any position that is not a word boundary\t\"cat\" matches \"\\Bcat\\B\" in \"category\" but not in \"The cat sat on the mat\"\n",
    "\"\"\"\n"
   ]
  },
  {
   "cell_type": "code",
   "execution_count": 10,
   "id": "08223b66-d334-461a-8a22-74773e39ca92",
   "metadata": {},
   "outputs": [
    {
     "name": "stdout",
     "output_type": "stream",
     "text": [
      "result found: 1234567890\n"
     ]
    }
   ],
   "source": [
    "pattern=r\"\\d\\d\\d\\d\\d\\d\\d\\d\\d\\d\"\n",
    "\n",
    "import re\n",
    "string=\"my phone number is 1234567890\"\n",
    "\n",
    "result=re.search(pattern,string)\n",
    "\n",
    "if result:\n",
    "    print(\"result found:\", result.group())\n",
    "else:\n",
    "    print(\"not found\")\n",
    "    "
   ]
  },
  {
   "cell_type": "code",
   "execution_count": 11,
   "id": "55a0c723-dc00-4a0d-9b4b-b0661fe12f24",
   "metadata": {},
   "outputs": [
    {
     "data": {
      "text/plain": [
       "[',', ' ', '!']"
      ]
     },
     "execution_count": 11,
     "metadata": {},
     "output_type": "execute_result"
    }
   ],
   "source": [
    "pattern=r\"\\W\" # matches any non-word character\n",
    "\n",
    "text=\"Hello, world!\"\n",
    "\n",
    "result=re.findall(pattern,text) #findall method is used to find all occurance of given pattern in string \n",
    "\n",
    "result"
   ]
  },
  {
   "cell_type": "code",
   "execution_count": 12,
   "id": "a1b918da-c2cc-4ad5-a4cc-4488377bcfe4",
   "metadata": {
    "editable": true,
    "slideshow": {
     "slide_type": ""
    },
    "tags": []
   },
   "outputs": [
    {
     "data": {
      "text/plain": [
       "['as', 'as']"
      ]
     },
     "execution_count": 12,
     "metadata": {},
     "output_type": "execute_result"
    }
   ],
   "source": [
    "#finding the string or sequence given in pattern by findall method\n",
    "s1=\"michael jhonson was a singer and known as the 'king of pop'\"\n",
    "\n",
    "result=re.findall(\"as\",s1)\n",
    "result"
   ]
  },
  {
   "cell_type": "code",
   "execution_count": 16,
   "id": "2a0ec8b6-051f-46a4-bd2d-24f1607e909c",
   "metadata": {},
   "outputs": [
    {
     "data": {
      "text/plain": [
       "['michael',\n",
       " 'jhonson',\n",
       " 'was',\n",
       " 'a',\n",
       " 'singer',\n",
       " 'and',\n",
       " 'known',\n",
       " 'as',\n",
       " 'the',\n",
       " \"'king\",\n",
       " 'of',\n",
       " \"pop'\"]"
      ]
     },
     "execution_count": 16,
     "metadata": {},
     "output_type": "execute_result"
    }
   ],
   "source": [
    "#split function in regex splits the string into array by given pattern \n",
    "#using split function on s1 for splitting by \\s\n",
    "\n",
    "result=re.split(\"\\\\s\",s1)\n",
    "result"
   ]
  },
  {
   "cell_type": "code",
   "execution_count": 17,
   "id": "43088267-2097-41dc-837a-fc4aa6211569",
   "metadata": {},
   "outputs": [
    {
     "data": {
      "text/plain": [
       "\"michael jackson is singer and know as 'legend'\""
      ]
     },
     "execution_count": 17,
     "metadata": {},
     "output_type": "execute_result"
    }
   ],
   "source": [
    "#sub method in regex is used to replace all the occurance of pattern with given new word\n",
    "s=\"michael jackson is singer and know as 'king of pop'\"\n",
    "\n",
    "pattern='king of pop'\n",
    "replacement='legend'\n",
    "\n",
    "import re\n",
    "\n",
    "result=re.sub(pattern,replacement,s,flags=re.IGNORECASE)\n",
    "\n",
    "result"
   ]
  },
  {
   "cell_type": "code",
   "execution_count": 18,
   "id": "546a9a66-5fbd-474c-ae33-fd59a8e192f9",
   "metadata": {},
   "outputs": [
    {
     "name": "stdout",
     "output_type": "stream",
     "text": [
      "nam\n"
     ]
    }
   ],
   "source": [
    "#Module 1 lab\n",
    "\n",
    "#we can also slice the string using \n",
    "d=\"name\"\n",
    "print(d[:3])"
   ]
  },
  {
   "cell_type": "code",
   "execution_count": 19,
   "id": "bf961e26-91a6-4572-8a56-3978fa061c20",
   "metadata": {},
   "outputs": [
    {
     "name": "stdout",
     "output_type": "stream",
     "text": [
      "Mcal\n"
     ]
    }
   ],
   "source": [
    "e=\"Michael\"\n",
    "print(e[::2])"
   ]
  },
  {
   "cell_type": "code",
   "execution_count": 22,
   "id": "ac4997ea-571b-483c-a80c-44511e27dbfc",
   "metadata": {},
   "outputs": [
    {
     "name": "stdout",
     "output_type": "stream",
     "text": [
      "\\\\\\\n",
      "\\ \n"
     ]
    }
   ],
   "source": [
    "print(\"\\\\\\\\\\\\\")\n",
    "print(r\"\\ \") # space is must in front of \\"
   ]
  },
  {
   "cell_type": "code",
   "execution_count": 26,
   "id": "e15dd4ab-78cf-4a40-95f8-2825febeabad",
   "metadata": {},
   "outputs": [
    {
     "name": "stdout",
     "output_type": "stream",
     "text": [
      "95\n",
      "Bob had a little lamb Little lamb, little lamb Bob had a little lamb Its fleece was white as snow And everywhere that Bob went Bob went, Bob went Everywhere that Bob went The lamb was sure to go\n",
      "['Mary', 'had', 'a', 'little', 'lamb', 'Little', 'lamb,', 'little', 'lamb', 'Mary', 'had', 'a', 'little', 'lamb', 'Its', 'fleece', 'was', 'white', 'as', 'snow', 'And', 'everywhere', 'that', 'Mary', 'went', 'Mary', 'went,', 'Mary', 'went', 'Everywhere', 'that', 'Mary', 'went', 'The', 'lamb', 'was', 'sure', 'to', 'go']\n",
      "None\n"
     ]
    },
    {
     "name": "stderr",
     "output_type": "stream",
     "text": [
      "<>:12: SyntaxWarning: invalid escape sequence '\\d'\n",
      "<>:12: SyntaxWarning: invalid escape sequence '\\d'\n",
      "C:\\Users\\Ritesh\\AppData\\Local\\Temp\\ipykernel_10340\\3691086933.py:12: SyntaxWarning: invalid escape sequence '\\d'\n",
      "  patter=\"\\d\"\n"
     ]
    }
   ],
   "source": [
    "g = \"Mary had a little lamb Little lamb, little lamb Mary had a little lamb \\\n",
    "Its fleece was white as snow And everywhere that Mary went Mary went, Mary went \\\n",
    "Everywhere that Mary went The lamb was sure to go\"\n",
    "#find the first index of snow\n",
    "print(g.find(\"snow\"))\n",
    "#replace marry with bob\n",
    "print(g.replace('Mary','Bob'))\n",
    "#split the substring to list\n",
    "print(g.split())\n",
    "#find weather the digit is present or no in string\n",
    "import re\n",
    "patter=\"\\d\"\n",
    "result=re.search(pattern,g)\n",
    "print(result)"
   ]
  },
  {
   "cell_type": "code",
   "execution_count": 31,
   "id": "57651658-702b-4d91-9e96-bb956617c534",
   "metadata": {},
   "outputs": [
    {
     "data": {
      "text/plain": [
       "'The quick brown fox jumps over the lazy bob.'"
      ]
     },
     "execution_count": 31,
     "metadata": {},
     "output_type": "execute_result"
    }
   ],
   "source": [
    "str1= \"The quick brown fox jumps over the lazy dog.\"\n",
    "#replace the substring dog with bob using sub() function \n",
    "import re\n",
    "result=re.sub(\"dog\",\"bob\",str1,flags=re.IGNORECASE)\n",
    "result"
   ]
  },
  {
   "cell_type": "code",
   "execution_count": 33,
   "id": "c6090e10-1d23-42a5-991c-3d5b4cc1a9a1",
   "metadata": {},
   "outputs": [
    {
     "name": "stdout",
     "output_type": "stream",
     "text": [
      "['woo', 'woo', 'woo', 'woo']\n"
     ]
    }
   ],
   "source": [
    " str2= \"How much wood would a woodchuck chuck, if a woodchuck could chuck wood?\"\n",
    "#in the given string find all ocurrance of 'woo' by findall() function\n",
    "import re\n",
    "print(re.findall('woo',str2))"
   ]
  },
  {
   "cell_type": "code",
   "execution_count": 3,
   "id": "dcacbca2-9cc7-41c2-9f56-8de021030cf5",
   "metadata": {},
   "outputs": [
    {
     "data": {
      "text/plain": [
       "'abC'"
      ]
     },
     "execution_count": 3,
     "metadata": {},
     "output_type": "execute_result"
    }
   ],
   "source": [
    "#End of the exercise\n",
    "str(1+1)\n",
    "\"ABC\".replace(\"AB\",\"ab\")\n",
    "x=\"Fun Python\"\n",
    "x[4:10]"
   ]
  }
 ],
 "metadata": {
  "kernelspec": {
   "display_name": "Python 3 (ipykernel)",
   "language": "python",
   "name": "python3"
  },
  "language_info": {
   "codemirror_mode": {
    "name": "ipython",
    "version": 3
   },
   "file_extension": ".py",
   "mimetype": "text/x-python",
   "name": "python",
   "nbconvert_exporter": "python",
   "pygments_lexer": "ipython3",
   "version": "3.12.4"
  }
 },
 "nbformat": 4,
 "nbformat_minor": 5
}
