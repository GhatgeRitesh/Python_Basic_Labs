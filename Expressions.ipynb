{
 "cells": [
  {
   "cell_type": "markdown",
   "id": "a371aa4d-b587-49d5-b728-2e91a87a1c58",
   "metadata": {},
   "source": [
    "## Learning Expressions in python"
   ]
  },
  {
   "cell_type": "code",
   "execution_count": 14,
   "id": "f3ae3d23-0544-4216-b618-a3088d927208",
   "metadata": {},
   "outputs": [
    {
     "name": "stdout",
     "output_type": "stream",
     "text": [
      "0.6666666666666666\n"
     ]
    }
   ],
   "source": [
    "a=20 \n",
    "b=30\n",
    "x=a+b\n",
    "x=20/30\n",
    "print(x)\n"
   ]
  },
  {
   "cell_type": "markdown",
   "id": "b721f035-4c22-419a-ae12-5867100d463e",
   "metadata": {},
   "source": [
    "### Inputs"
   ]
  },
  {
   "cell_type": "code",
   "execution_count": 21,
   "id": "782993ef-21fc-417e-bf4f-78ee2be8d9db",
   "metadata": {},
   "outputs": [
    {
     "name": "stdin",
     "output_type": "stream",
     "text": [
      "Enter the string saodk;sld\n"
     ]
    },
    {
     "name": "stdout",
     "output_type": "stream",
     "text": [
      "saodk;sld\n"
     ]
    },
    {
     "name": "stdin",
     "output_type": "stream",
     "text": [
      "Enter the age sksd\n"
     ]
    },
    {
     "ename": "ValueError",
     "evalue": "invalid literal for int() with base 10: 'sksd'",
     "output_type": "error",
     "traceback": [
      "\u001b[1;31m---------------------------------------------------------------------------\u001b[0m",
      "\u001b[1;31mValueError\u001b[0m                                Traceback (most recent call last)",
      "Cell \u001b[1;32mIn[21], line 3\u001b[0m\n\u001b[0;32m      1\u001b[0m x\u001b[38;5;241m=\u001b[39m\u001b[38;5;28minput\u001b[39m(\u001b[38;5;124m\"\u001b[39m\u001b[38;5;124mEnter the string\u001b[39m\u001b[38;5;124m\"\u001b[39m)\n\u001b[0;32m      2\u001b[0m \u001b[38;5;28mprint\u001b[39m(x)\n\u001b[1;32m----> 3\u001b[0m age\u001b[38;5;241m=\u001b[39m\u001b[38;5;28mint\u001b[39m(\u001b[38;5;28minput\u001b[39m(\u001b[38;5;124m\"\u001b[39m\u001b[38;5;124mEnter the age\u001b[39m\u001b[38;5;124m\"\u001b[39m))\n",
      "\u001b[1;31mValueError\u001b[0m: invalid literal for int() with base 10: 'sksd'"
     ]
    }
   ],
   "source": [
    "x=input(\"Enter the string\")\n",
    "\n",
    "age=int(input(\"Enter the age\"))\n",
    "print(age , x)"
   ]
  },
  {
   "cell_type": "code",
   "execution_count": null,
   "id": "2a6ed526-dece-4644-815d-5498129910ef",
   "metadata": {},
   "outputs": [],
   "source": []
  }
 ],
 "metadata": {
  "kernelspec": {
   "display_name": "Python 3 (ipykernel)",
   "language": "python",
   "name": "python3"
  },
  "language_info": {
   "codemirror_mode": {
    "name": "ipython",
    "version": 3
   },
   "file_extension": ".py",
   "mimetype": "text/x-python",
   "name": "python",
   "nbconvert_exporter": "python",
   "pygments_lexer": "ipython3",
   "version": "3.12.4"
  }
 },
 "nbformat": 4,
 "nbformat_minor": 5
}
